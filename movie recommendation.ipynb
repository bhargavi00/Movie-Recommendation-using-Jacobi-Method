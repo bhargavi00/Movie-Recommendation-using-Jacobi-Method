{
 "cells": [
  {
   "cell_type": "markdown",
   "metadata": {},
   "source": [
    "### Importing data"
   ]
  },
  {
   "cell_type": "code",
   "execution_count": 1,
   "metadata": {},
   "outputs": [],
   "source": [
    "import numpy as np\n",
    "import pandas as pd\n",
    "import random\n",
    "from numpy import array,identity,diagonal\n",
    "from math import sqrt"
   ]
  },
  {
   "cell_type": "code",
   "execution_count": 2,
   "metadata": {},
   "outputs": [],
   "source": [
    "movie_data = pd.io.parsers.read_csv('movies.dat',\n",
    "    names=['movie_id', 'title', 'genre'],\n",
    "    engine='python', delimiter='::')"
   ]
  },
  {
   "cell_type": "code",
   "execution_count": 3,
   "metadata": {},
   "outputs": [
    {
     "data": {
      "text/html": [
       "<div>\n",
       "<style scoped>\n",
       "    .dataframe tbody tr th:only-of-type {\n",
       "        vertical-align: middle;\n",
       "    }\n",
       "\n",
       "    .dataframe tbody tr th {\n",
       "        vertical-align: top;\n",
       "    }\n",
       "\n",
       "    .dataframe thead th {\n",
       "        text-align: right;\n",
       "    }\n",
       "</style>\n",
       "<table border=\"1\" class=\"dataframe\">\n",
       "  <thead>\n",
       "    <tr style=\"text-align: right;\">\n",
       "      <th></th>\n",
       "      <th>movie_id</th>\n",
       "      <th>title</th>\n",
       "      <th>genre</th>\n",
       "    </tr>\n",
       "  </thead>\n",
       "  <tbody>\n",
       "    <tr>\n",
       "      <th>0</th>\n",
       "      <td>1</td>\n",
       "      <td>Toy Story (1995)</td>\n",
       "      <td>Animation|Children's|Comedy</td>\n",
       "    </tr>\n",
       "    <tr>\n",
       "      <th>1</th>\n",
       "      <td>2</td>\n",
       "      <td>Jumanji (1995)</td>\n",
       "      <td>Adventure|Children's|Fantasy</td>\n",
       "    </tr>\n",
       "    <tr>\n",
       "      <th>2</th>\n",
       "      <td>3</td>\n",
       "      <td>Grumpier Old Men (1995)</td>\n",
       "      <td>Comedy|Romance</td>\n",
       "    </tr>\n",
       "    <tr>\n",
       "      <th>3</th>\n",
       "      <td>4</td>\n",
       "      <td>Waiting to Exhale (1995)</td>\n",
       "      <td>Comedy|Drama</td>\n",
       "    </tr>\n",
       "    <tr>\n",
       "      <th>4</th>\n",
       "      <td>5</td>\n",
       "      <td>Father of the Bride Part II (1995)</td>\n",
       "      <td>Comedy</td>\n",
       "    </tr>\n",
       "    <tr>\n",
       "      <th>...</th>\n",
       "      <td>...</td>\n",
       "      <td>...</td>\n",
       "      <td>...</td>\n",
       "    </tr>\n",
       "    <tr>\n",
       "      <th>94</th>\n",
       "      <td>96</td>\n",
       "      <td>In the Bleak Midwinter (1995)</td>\n",
       "      <td>Comedy</td>\n",
       "    </tr>\n",
       "    <tr>\n",
       "      <th>95</th>\n",
       "      <td>97</td>\n",
       "      <td>Hate (Haine, La) (1995)</td>\n",
       "      <td>Drama</td>\n",
       "    </tr>\n",
       "    <tr>\n",
       "      <th>96</th>\n",
       "      <td>98</td>\n",
       "      <td>Shopping (1994)</td>\n",
       "      <td>Action|Thriller</td>\n",
       "    </tr>\n",
       "    <tr>\n",
       "      <th>97</th>\n",
       "      <td>99</td>\n",
       "      <td>Heidi Fleiss: Hollywood Madam (1995)</td>\n",
       "      <td>Documentary</td>\n",
       "    </tr>\n",
       "    <tr>\n",
       "      <th>98</th>\n",
       "      <td>100</td>\n",
       "      <td>City Hall (1996)</td>\n",
       "      <td>Drama|Thriller</td>\n",
       "    </tr>\n",
       "  </tbody>\n",
       "</table>\n",
       "<p>99 rows × 3 columns</p>\n",
       "</div>"
      ],
      "text/plain": [
       "    movie_id                                 title  \\\n",
       "0          1                      Toy Story (1995)   \n",
       "1          2                        Jumanji (1995)   \n",
       "2          3               Grumpier Old Men (1995)   \n",
       "3          4              Waiting to Exhale (1995)   \n",
       "4          5    Father of the Bride Part II (1995)   \n",
       "..       ...                                   ...   \n",
       "94        96         In the Bleak Midwinter (1995)   \n",
       "95        97               Hate (Haine, La) (1995)   \n",
       "96        98                       Shopping (1994)   \n",
       "97        99  Heidi Fleiss: Hollywood Madam (1995)   \n",
       "98       100                      City Hall (1996)   \n",
       "\n",
       "                           genre  \n",
       "0    Animation|Children's|Comedy  \n",
       "1   Adventure|Children's|Fantasy  \n",
       "2                 Comedy|Romance  \n",
       "3                   Comedy|Drama  \n",
       "4                         Comedy  \n",
       "..                           ...  \n",
       "94                        Comedy  \n",
       "95                         Drama  \n",
       "96               Action|Thriller  \n",
       "97                   Documentary  \n",
       "98                Drama|Thriller  \n",
       "\n",
       "[99 rows x 3 columns]"
      ]
     },
     "execution_count": 3,
     "metadata": {},
     "output_type": "execute_result"
    }
   ],
   "source": [
    "movie_data"
   ]
  },
  {
   "cell_type": "code",
   "execution_count": 4,
   "metadata": {},
   "outputs": [],
   "source": [
    "data = pd.DataFrame(columns = ['user_id', 'movie_id', 'rating', 'time'])"
   ]
  },
  {
   "cell_type": "code",
   "execution_count": 5,
   "metadata": {},
   "outputs": [
    {
     "data": {
      "text/html": [
       "<div>\n",
       "<style scoped>\n",
       "    .dataframe tbody tr th:only-of-type {\n",
       "        vertical-align: middle;\n",
       "    }\n",
       "\n",
       "    .dataframe tbody tr th {\n",
       "        vertical-align: top;\n",
       "    }\n",
       "\n",
       "    .dataframe thead th {\n",
       "        text-align: right;\n",
       "    }\n",
       "</style>\n",
       "<table border=\"1\" class=\"dataframe\">\n",
       "  <thead>\n",
       "    <tr style=\"text-align: right;\">\n",
       "      <th></th>\n",
       "      <th>user_id</th>\n",
       "      <th>movie_id</th>\n",
       "      <th>rating</th>\n",
       "      <th>time</th>\n",
       "    </tr>\n",
       "  </thead>\n",
       "  <tbody>\n",
       "  </tbody>\n",
       "</table>\n",
       "</div>"
      ],
      "text/plain": [
       "Empty DataFrame\n",
       "Columns: [user_id, movie_id, rating, time]\n",
       "Index: []"
      ]
     },
     "execution_count": 5,
     "metadata": {},
     "output_type": "execute_result"
    }
   ],
   "source": [
    "data"
   ]
  },
  {
   "cell_type": "code",
   "execution_count": 6,
   "metadata": {},
   "outputs": [],
   "source": [
    "for i in range(200):\n",
    "    userid = random.randint(1,15)\n",
    "    movieid = random.randint(1,100)\n",
    "    rating = random.randint(1,5)\n",
    "    time = random.randint(30,150)\n",
    "    row = [userid, movieid, rating, time]\n",
    "    data.loc[len(data)] = row"
   ]
  },
  {
   "cell_type": "code",
   "execution_count": 7,
   "metadata": {
    "scrolled": true
   },
   "outputs": [
    {
     "data": {
      "text/html": [
       "<div>\n",
       "<style scoped>\n",
       "    .dataframe tbody tr th:only-of-type {\n",
       "        vertical-align: middle;\n",
       "    }\n",
       "\n",
       "    .dataframe tbody tr th {\n",
       "        vertical-align: top;\n",
       "    }\n",
       "\n",
       "    .dataframe thead th {\n",
       "        text-align: right;\n",
       "    }\n",
       "</style>\n",
       "<table border=\"1\" class=\"dataframe\">\n",
       "  <thead>\n",
       "    <tr style=\"text-align: right;\">\n",
       "      <th></th>\n",
       "      <th>user_id</th>\n",
       "      <th>movie_id</th>\n",
       "      <th>rating</th>\n",
       "      <th>time</th>\n",
       "    </tr>\n",
       "  </thead>\n",
       "  <tbody>\n",
       "    <tr>\n",
       "      <th>0</th>\n",
       "      <td>11</td>\n",
       "      <td>42</td>\n",
       "      <td>1</td>\n",
       "      <td>127</td>\n",
       "    </tr>\n",
       "    <tr>\n",
       "      <th>1</th>\n",
       "      <td>12</td>\n",
       "      <td>74</td>\n",
       "      <td>1</td>\n",
       "      <td>76</td>\n",
       "    </tr>\n",
       "    <tr>\n",
       "      <th>2</th>\n",
       "      <td>10</td>\n",
       "      <td>93</td>\n",
       "      <td>3</td>\n",
       "      <td>79</td>\n",
       "    </tr>\n",
       "    <tr>\n",
       "      <th>3</th>\n",
       "      <td>14</td>\n",
       "      <td>93</td>\n",
       "      <td>3</td>\n",
       "      <td>141</td>\n",
       "    </tr>\n",
       "    <tr>\n",
       "      <th>4</th>\n",
       "      <td>5</td>\n",
       "      <td>67</td>\n",
       "      <td>5</td>\n",
       "      <td>59</td>\n",
       "    </tr>\n",
       "    <tr>\n",
       "      <th>...</th>\n",
       "      <td>...</td>\n",
       "      <td>...</td>\n",
       "      <td>...</td>\n",
       "      <td>...</td>\n",
       "    </tr>\n",
       "    <tr>\n",
       "      <th>195</th>\n",
       "      <td>8</td>\n",
       "      <td>65</td>\n",
       "      <td>4</td>\n",
       "      <td>124</td>\n",
       "    </tr>\n",
       "    <tr>\n",
       "      <th>196</th>\n",
       "      <td>10</td>\n",
       "      <td>32</td>\n",
       "      <td>1</td>\n",
       "      <td>131</td>\n",
       "    </tr>\n",
       "    <tr>\n",
       "      <th>197</th>\n",
       "      <td>8</td>\n",
       "      <td>68</td>\n",
       "      <td>5</td>\n",
       "      <td>93</td>\n",
       "    </tr>\n",
       "    <tr>\n",
       "      <th>198</th>\n",
       "      <td>8</td>\n",
       "      <td>60</td>\n",
       "      <td>2</td>\n",
       "      <td>31</td>\n",
       "    </tr>\n",
       "    <tr>\n",
       "      <th>199</th>\n",
       "      <td>3</td>\n",
       "      <td>57</td>\n",
       "      <td>2</td>\n",
       "      <td>137</td>\n",
       "    </tr>\n",
       "  </tbody>\n",
       "</table>\n",
       "<p>200 rows × 4 columns</p>\n",
       "</div>"
      ],
      "text/plain": [
       "    user_id movie_id rating time\n",
       "0        11       42      1  127\n",
       "1        12       74      1   76\n",
       "2        10       93      3   79\n",
       "3        14       93      3  141\n",
       "4         5       67      5   59\n",
       "..      ...      ...    ...  ...\n",
       "195       8       65      4  124\n",
       "196      10       32      1  131\n",
       "197       8       68      5   93\n",
       "198       8       60      2   31\n",
       "199       3       57      2  137\n",
       "\n",
       "[200 rows x 4 columns]"
      ]
     },
     "execution_count": 7,
     "metadata": {},
     "output_type": "execute_result"
    }
   ],
   "source": [
    "data"
   ]
  },
  {
   "cell_type": "code",
   "execution_count": 32,
   "metadata": {},
   "outputs": [
    {
     "data": {
      "text/plain": [
       "array([1, 3, 5, 2, 4], dtype=int64)"
      ]
     },
     "execution_count": 32,
     "metadata": {},
     "output_type": "execute_result"
    }
   ],
   "source": [
    "data['rating'].unique()"
   ]
  },
  {
   "cell_type": "markdown",
   "metadata": {},
   "source": [
    "### Data preprocessing"
   ]
  },
  {
   "cell_type": "code",
   "execution_count": 8,
   "metadata": {},
   "outputs": [],
   "source": [
    "data = data.astype('int64')"
   ]
  },
  {
   "cell_type": "code",
   "execution_count": 9,
   "metadata": {},
   "outputs": [],
   "source": [
    "# Create the ratings matrix of shape (movies × users) with rows as movies and columns as users\n",
    "ratings = np.ndarray(\n",
    "                shape=(np.max(data.movie_id.values), np.max(data.user_id.values)),\n",
    "                dtype=np.uint8)\n",
    "ratings[data.movie_id.values-1, data.user_id.values-1] = data.rating.values"
   ]
  },
  {
   "cell_type": "code",
   "execution_count": 11,
   "metadata": {},
   "outputs": [
    {
     "data": {
      "text/plain": [
       "(100, 15)"
      ]
     },
     "execution_count": 11,
     "metadata": {},
     "output_type": "execute_result"
    }
   ],
   "source": [
    "ratings.shape"
   ]
  },
  {
   "cell_type": "code",
   "execution_count": 12,
   "metadata": {},
   "outputs": [],
   "source": [
    "# Normalise matrix \n",
    "normalised_ratings = ratings - np.asarray([(np.mean(ratings, 1))]).T"
   ]
  },
  {
   "cell_type": "code",
   "execution_count": 13,
   "metadata": {},
   "outputs": [
    {
     "data": {
      "text/plain": [
       "array([[110.46666667,  60.46666667, -62.53333333, ..., -64.53333333,\n",
       "        -64.53333333, -65.53333333],\n",
       "       [ -0.33333333,   1.66666667,  -0.33333333, ...,  -0.33333333,\n",
       "         -0.33333333,  -0.33333333],\n",
       "       [ -0.66666667,  -0.66666667,   3.33333333, ...,  -0.66666667,\n",
       "         -0.66666667,   0.33333333],\n",
       "       ...,\n",
       "       [ -7.86666667,  -9.86666667, -12.86666667, ..., -12.86666667,\n",
       "        -12.86666667, -12.86666667],\n",
       "       [-25.4       , -25.4       , 158.6       , ..., -23.4       ,\n",
       "        -25.4       , -25.4       ],\n",
       "       [-25.26666667, -25.26666667, -25.26666667, ..., -25.26666667,\n",
       "        -24.26666667, -20.26666667]])"
      ]
     },
     "execution_count": 13,
     "metadata": {},
     "output_type": "execute_result"
    }
   ],
   "source": [
    "normalised_ratings"
   ]
  },
  {
   "cell_type": "code",
   "execution_count": 14,
   "metadata": {},
   "outputs": [
    {
     "data": {
      "text/plain": [
       "(100, 15)"
      ]
     },
     "execution_count": 14,
     "metadata": {},
     "output_type": "execute_result"
    }
   ],
   "source": [
    "normalised_ratings.shape"
   ]
  },
  {
   "cell_type": "markdown",
   "metadata": {},
   "source": [
    "### Computing eigen pairs using Jacobi method"
   ]
  },
  {
   "cell_type": "code",
   "execution_count": 15,
   "metadata": {},
   "outputs": [],
   "source": [
    "covariance = np.cov(normalised_ratings)"
   ]
  },
  {
   "cell_type": "code",
   "execution_count": 16,
   "metadata": {},
   "outputs": [
    {
     "data": {
      "text/plain": [
       "array([[ 5.40169524e+03,  2.50238095e+01, -1.41666667e+01, ...,\n",
       "         1.04257619e+03, -4.93871429e+02,  7.19133333e+02],\n",
       "       [ 2.50238095e+01,  8.09523810e-01, -2.38095238e-01, ...,\n",
       "         3.50476190e+01, -8.00000000e+00, -9.02380952e+00],\n",
       "       [-1.41666667e+01, -2.38095238e-01,  2.52380952e+00, ...,\n",
       "        -9.19047619e+00,  1.00500000e+02, -1.76904762e+01],\n",
       "       ...,\n",
       "       [ 1.04257619e+03,  3.50476190e+01, -9.19047619e+00, ...,\n",
       "         2.21740952e+03, -2.84800000e+02, -3.48319048e+02],\n",
       "       [-4.93871429e+02, -8.00000000e+00,  1.00500000e+02, ...,\n",
       "        -2.84800000e+02,  4.17554286e+03, -6.21185714e+02],\n",
       "       [ 7.19133333e+02, -9.02380952e+00, -1.76904762e+01, ...,\n",
       "        -3.48319048e+02, -6.21185714e+02,  4.28678095e+03]])"
      ]
     },
     "execution_count": 16,
     "metadata": {},
     "output_type": "execute_result"
    }
   ],
   "source": [
    "covariance"
   ]
  },
  {
   "cell_type": "code",
   "execution_count": 17,
   "metadata": {},
   "outputs": [
    {
     "data": {
      "text/plain": [
       "(100, 100)"
      ]
     },
     "execution_count": 17,
     "metadata": {},
     "output_type": "execute_result"
    }
   ],
   "source": [
    "covariance.shape"
   ]
  },
  {
   "cell_type": "code",
   "execution_count": 18,
   "metadata": {},
   "outputs": [],
   "source": [
    "# Actual eigen pairs\n",
    "eigen_values, eigen_vectors = np.linalg.eig(covariance)"
   ]
  },
  {
   "cell_type": "code",
   "execution_count": 19,
   "metadata": {},
   "outputs": [
    {
     "data": {
      "text/plain": [
       "array([20624.05347338+0.j, 10438.08483209+0.j, 19008.77204104+0.j,\n",
       "       18164.66441671+0.j, 15775.08181561+0.j, 16810.41369003+0.j,\n",
       "       16524.23165428+0.j,  2682.61676453+0.j,  1818.30624654+0.j,\n",
       "         427.57373644+0.j])"
      ]
     },
     "execution_count": 19,
     "metadata": {},
     "output_type": "execute_result"
    }
   ],
   "source": [
    "eigen_values[0:10]"
   ]
  },
  {
   "cell_type": "code",
   "execution_count": 27,
   "metadata": {},
   "outputs": [],
   "source": [
    "# Eigen pairs by Jacobi method\n",
    "def Jacobi(a, limit):\n",
    "    def maxElement(a):\n",
    "        n = len(a)\n",
    "        max_ = 0.0\n",
    "        for i in range(n-1):\n",
    "            for j in range(i+1, n):\n",
    "                if abs(a[i,j]) >= max_:\n",
    "                    max_ = abs(a[i,j])\n",
    "                    k = i\n",
    "                    l = j\n",
    "        return max_, k, l\n",
    "    \n",
    "    def rotate(A, p, k, l):\n",
    "        n = len(a)\n",
    "        diff = a[l,l] - a[k,k]\n",
    "        if abs(a[k,l]) < abs(diff)*1.0e-36: \n",
    "            t = a[k,l]/diff\n",
    "        else:\n",
    "            phi = diff/(2.0*a[k,l])\n",
    "            t = 1.0/(abs(phi) + sqrt(phi**2 + 1.0))\n",
    "            if phi < 0.0: \n",
    "                t = -t\n",
    "        c = 1.0/sqrt(t**2 + 1.0)\n",
    "        s = t*c\n",
    "        tau = s/(1.0 + c)\n",
    "        temp = a[k,l]\n",
    "        a[k,l] = 0.0\n",
    "        a[k,k] = a[k,k] - t*temp\n",
    "        a[l,l] = a[l,l] + t*temp\n",
    "        for i in range(k): \n",
    "            temp = a[i,k]\n",
    "            a[i,k] = temp - s*(a[i,l] + tau*temp)\n",
    "            a[i,l] = a[i,l] + s*(temp - tau*a[i,l])\n",
    "        for i in range(k+1, l): \n",
    "            temp = a[k,i]\n",
    "            a[k,i] = temp - s*(a[i,l] + tau*a[k,i])\n",
    "            a[i,l] = a[i,l] + s*(temp - tau*a[i,l])\n",
    "        for i in range(l+1, n): \n",
    "            temp = a[k,i]\n",
    "            a[k,i] = temp - s*(a[l,i] + tau*temp)\n",
    "            a[l,i] = a[l,i] + s*(temp - tau*a[l,i])\n",
    "        for i in range(n): \n",
    "            temp = p[i,k]\n",
    "            p[i,k] = temp - s*(p[i,l] + tau*p[i,k])\n",
    "            p[i,l] = p[i,l] + s*(temp - tau*p[i,l])\n",
    "    \n",
    "    n = len(a)\n",
    "    max_rotations = 5*(n**2) \n",
    "    p = identity(n)*1.0 \n",
    "    for i in range(max_rotations): \n",
    "        max_, k, l = maxElement(a)\n",
    "        if max_ < limit: \n",
    "            return diagonal(a), p \n",
    "        rotate(a, p, k, l)\n",
    "    print('Jacobi method did not converge')\n",
    "\n",
    "jacobi_eigen_values, jacobi_eigen_vectors = Jacobi(covariance, limit=1.0e-9)"
   ]
  },
  {
   "cell_type": "code",
   "execution_count": 28,
   "metadata": {},
   "outputs": [
    {
     "data": {
      "text/plain": [
       "[20624.05347338157,\n",
       " 19008.772041041557,\n",
       " 18164.6644167113,\n",
       " 16810.41369003035,\n",
       " 16524.231654279254,\n",
       " 15775.081815610298,\n",
       " 10438.084832091447,\n",
       " 2682.616764527335,\n",
       " 1818.3062465366186,\n",
       " 1258.1510589272802]"
      ]
     },
     "execution_count": 28,
     "metadata": {},
     "output_type": "execute_result"
    }
   ],
   "source": [
    "jacobi_eigen_values = list(jacobi_eigen_values)\n",
    "jacobi_eigen_values.sort(reverse=True)\n",
    "jacobi_eigen_values[0:10]"
   ]
  },
  {
   "cell_type": "markdown",
   "metadata": {},
   "source": [
    "### Recommending top 5 movies"
   ]
  },
  {
   "cell_type": "code",
   "execution_count": 29,
   "metadata": {},
   "outputs": [],
   "source": [
    "def top_cosine_similarity(topk_eigenvecs, movie_id, top_n):\n",
    "    index = movie_id - 1 # Movie id starts from 1\n",
    "    movie_row = topk_eigenvecs[index, :]\n",
    "    magnitude = np.sqrt(np.einsum('ij, ij -> i', topk_eigenvecs, topk_eigenvecs))\n",
    "    similarity = np.dot(movie_row, topk_eigenvecs.T) / (magnitude[index] * magnitude)\n",
    "    sort_indexes = np.argsort(-similarity)\n",
    "    return sort_indexes[:top_n]\n",
    "\n",
    "# Helper function to print top N similar movies\n",
    "def print_similar_movies(movie_data, movie_id, top_indexes):\n",
    "    print('Recommendations for {0}: \\n'.format(\n",
    "    movie_data[movie_data.movie_id == movie_id].title.values[0]))\n",
    "    for id in top_indexes + 1:\n",
    "        print(movie_data[movie_data.movie_id == id].title.values[0])"
   ]
  },
  {
   "cell_type": "code",
   "execution_count": 30,
   "metadata": {},
   "outputs": [
    {
     "name": "stdout",
     "output_type": "stream",
     "text": [
      "Recommendations for Leaving Las Vegas (1995): \n",
      "\n",
      "Toy Story (1995)\n",
      "MisÃ©rables, Les (1995)\n",
      "Kicking and Screaming (1995)\n",
      "Fair Game (1995)\n",
      "From Dusk Till Dawn (1996)\n"
     ]
    },
    {
     "name": "stderr",
     "output_type": "stream",
     "text": [
      "<ipython-input-29-d6b783340310>:5: RuntimeWarning: invalid value encountered in true_divide\n",
      "  similarity = np.dot(movie_row, topk_eigenvecs.T) / (magnitude[index] * magnitude)\n"
     ]
    }
   ],
   "source": [
    "k = 10\n",
    "movie_id = 25\n",
    "top_n = 5\n",
    "\n",
    "topk_eigenvecs = jacobi_eigen_vectors[:, :k]\n",
    "top_indexes = top_cosine_similarity(topk_eigenvecs, movie_id, top_n)\n",
    "print_similar_movies(movie_data, movie_id, top_indexes)"
   ]
  },
  {
   "cell_type": "code",
   "execution_count": null,
   "metadata": {},
   "outputs": [],
   "source": []
  }
 ],
 "metadata": {
  "kernelspec": {
   "display_name": "Python 3",
   "language": "python",
   "name": "python3"
  },
  "language_info": {
   "codemirror_mode": {
    "name": "ipython",
    "version": 3
   },
   "file_extension": ".py",
   "mimetype": "text/x-python",
   "name": "python",
   "nbconvert_exporter": "python",
   "pygments_lexer": "ipython3",
   "version": "3.8.3"
  }
 },
 "nbformat": 4,
 "nbformat_minor": 4
}
